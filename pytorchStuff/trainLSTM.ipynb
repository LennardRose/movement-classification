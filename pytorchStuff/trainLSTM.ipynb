{
 "cells": [
  {
   "attachments": {},
   "cell_type": "markdown",
   "metadata": {},
   "source": [
    "## pytorch stuff"
   ]
  },
  {
   "cell_type": "code",
   "execution_count": 1,
   "metadata": {},
   "outputs": [],
   "source": [
    "import pandas as pd\n",
    "import numpy as np\n",
    "import torch\n",
    "import torch.nn as nn\n",
    "import torch.optim as optim\n",
    "from torch.utils.data import Dataset\n",
    "from torch.utils.data import DataLoader\n",
    "from torch.autograd import Variable\n",
    "from sklearn.preprocessing import StandardScaler\n",
    "from sklearn.model_selection import train_test_split\n",
    "import matplotlib.pyplot as plt\n",
    "from sklearn.metrics import accuracy_score\n",
    "from tqdm import tqdm\n",
    "from SlidingWindow import SlidingWindowDataset\n",
    "from models import LSTM\n",
    "from training import *\n",
    "from sklearn.metrics import confusion_matrix\n",
    "\n",
    "def split_data_labels(dataset_train):\n",
    "    labels = dataset_train[\"Label\"]\n",
    "    dataset_train = dataset_train.drop(\"Label\", axis=1)\n",
    "\n",
    "    return dataset_train, labels"
   ]
  },
  {
   "cell_type": "code",
   "execution_count": 2,
   "metadata": {},
   "outputs": [],
   "source": [
    "df_train_set = pd.read_csv(\"../data/train_onlyAngles.csv\", )\n",
    "df_test_set = pd.read_csv(\"../data/test_onlyAngles.csv\")\n",
    "df_train_data, labels = split_data_labels(df_train_set)\n",
    "df_test_data, file_id = split_data_labels(df_test_set)\n",
    "\n",
    "train_data_scaled = StandardScaler().fit_transform(df_train_data)\n",
    "test_data_scaled = StandardScaler().fit_transform(df_test_data)\n",
    "\n",
    "X_train, X_val, y_train, y_val = train_test_split(train_data_scaled, labels, test_size=0.2, random_state=42,\n",
    "                                                    shuffle=False)\n",
    "\n",
    "train_set = SlidingWindowDataset(X_train, y_train, window_size=100, step_size=50)\n",
    "val_set = SlidingWindowDataset(X_val, y_val, window_size=100, step_size=50)\n",
    "\n",
    "test_set = SlidingWindowDataset(test_data_scaled, file_id, window_size=100, step_size=50)"
   ]
  },
  {
   "cell_type": "code",
   "execution_count": 3,
   "metadata": {},
   "outputs": [
    {
     "name": "stdout",
     "output_type": "stream",
     "text": [
      "NVIDIA GeForce RTX 3070\n"
     ]
    }
   ],
   "source": [
    "# Connect to GPU\n",
    "if torch.cuda.is_available():\n",
    "    DEVICE = \"cuda\"\n",
    "    # Clear cache if non-empty\n",
    "    torch.cuda.empty_cache()\n",
    "    # See which GPU has been allotted\n",
    "    print(torch.cuda.get_device_name(torch.cuda.current_device()))\n",
    "else:\n",
    "    DEVICE = \"cpu\"\n",
    "    print(\"On CPU\")\n"
   ]
  },
  {
   "cell_type": "code",
   "execution_count": 4,
   "metadata": {},
   "outputs": [
    {
     "name": "stdout",
     "output_type": "stream",
     "text": [
      "Epoch: 01/01\n"
     ]
    },
    {
     "name": "stderr",
     "output_type": "stream",
     "text": [
      "100%|██████████| 82/82 [00:02<00:00, 35.51it/s]\n",
      "100%|██████████| 21/21 [00:00<00:00, 122.81it/s]\n"
     ]
    },
    {
     "name": "stdout",
     "output_type": "stream",
     "text": [
      "Train Loss: 1.353 | Train Acc: 44.82%\n",
      "Val. Loss: 1.173 | Val. Acc: 55.70%\n"
     ]
    },
    {
     "data": {
      "image/png": "[encoded data removed]",
      "text/plain": [
       "<Figure size 432x288 with 1 Axes>"
      ]
     },
     "metadata": {
      "needs_background": "light"
     },
     "output_type": "display_data"
    },
    {
     "data": {
      "image/png": "[encoded data removed]",
      "text/plain": [
       "<Figure size 432x288 with 1 Axes>"
      ]
     },
     "metadata": {
      "needs_background": "light"
     },
     "output_type": "display_data"
    }
   ],
   "source": [
    "lstm = LSTM(input_size=12, hidden_size=128, num_layers=2)\n",
    "\n",
    "lstm = lstm.to(DEVICE)\n",
    "lstm, (train_acc, val_acc), = train_model(lstm, epochs=1, batch_size=128, learning_rate=0.01, train_set=train_set, val_set=val_set,\n",
    "                        device=DEVICE)"
   ]
  },
  {
   "cell_type": "code",
   "execution_count": 13,
   "metadata": {},
   "outputs": [],
   "source": [
    "torch.save(lstm.state_dict(), \"../models/lstm_model_{val_acc:.0f}.pt\".format(val_acc=val_acc*100))"
   ]
  },
  {
   "cell_type": "code",
   "execution_count": 18,
   "metadata": {},
   "outputs": [],
   "source": [
    "classifications = []\n",
    "\n",
    "dl_test = DataLoader(test_set, 1, shuffle=False)\n",
    "\n",
    "for inputs, file_id in dl_test:  \n",
    "  torch.cuda.empty_cache()\n",
    "  inputs = inputs.to(DEVICE)\n",
    "  classifications.append([file_id.item(), torch.argmax(lstm(inputs), 1).item()]) "
   ]
  },
  {
   "cell_type": "code",
   "execution_count": 21,
   "metadata": {},
   "outputs": [
    {
     "name": "stdout",
     "output_type": "stream",
     "text": [
      "torch.Size([32, 100, 12])\n",
      "tensor([ 0,  0,  0,  0,  0,  0,  0,  0,  0,  0,  0,  1,  1,  1,  1,  1,  1,  1,\n",
      "         1,  1,  1,  1,  1, 10, 10, 10, 10, 10, 10, 10, 10, 10])\n"
     ]
    }
   ],
   "source": [
    "dl_test = DataLoader(test_set, 32, shuffle=False)\n",
    "\n",
    "for inputs, file_id in dl_test:  \n",
    "    print(inputs.shape)\n",
    "    print(file_id)\n",
    "    break"
   ]
  },
  {
   "cell_type": "code",
   "execution_count": null,
   "metadata": {},
   "outputs": [],
   "source": [
    "pd.DataFrame(classifications, columns=[\"id\", \"action\"]).groupby(\"id\").agg(lambda x: x.value_counts().index[0]).reset_index().to_csv(\"../Results/LSTMtorch/submission_lstm_pytorch_val{val_acc:.0f}.csv\".format(val_acc*100), index=False, sep=\",\")"
   ]
  },
  {
   "cell_type": "code",
   "execution_count": null,
   "metadata": {},
   "outputs": [],
   "source": [
    "def plot_confusion_matrix(cm,\n",
    "                          target_names,\n",
    "                          title='Confusion matrix',\n",
    "                          cmap=None,\n",
    "                          normalize=True):\n",
    "    \"\"\"\n",
    "    given a sklearn confusion matrix (cm), make a nice plot\n",
    "\n",
    "    Arguments\n",
    "    ---------\n",
    "    cm:           confusion matrix from sklearn.metrics.confusion_matrix\n",
    "\n",
    "    target_names: given classification classes such as [0, 1, 2]\n",
    "                  the class names, for example: ['high', 'medium', 'low']\n",
    "\n",
    "    title:        the text to display at the top of the matrix\n",
    "\n",
    "    cmap:         the gradient of the values displayed from matplotlib.pyplot.cm\n",
    "                  see http://matplotlib.org/examples/color/colormaps_reference.html\n",
    "                  plt.get_cmap('jet') or plt.cm.Blues\n",
    "\n",
    "    normalize:    If False, plot the raw numbers\n",
    "                  If True, plot the proportions\n",
    "\n",
    "    Usage\n",
    "    -----\n",
    "    plot_confusion_matrix(cm           = cm,                  # confusion matrix created by\n",
    "                                                              # sklearn.metrics.confusion_matrix\n",
    "                          normalize    = True,                # show proportions\n",
    "                          target_names = y_labels_vals,       # list of names of the classes\n",
    "                          title        = best_estimator_name) # title of graph\n",
    "\n",
    "    Citiation\n",
    "    ---------\n",
    "    http://scikit-learn.org/stable/auto_examples/model_selection/plot_confusion_matrix.html\n",
    "\n",
    "    \"\"\"\n",
    "    import matplotlib.pyplot as plt\n",
    "    import numpy as np\n",
    "    import itertools\n",
    "\n",
    "    accuracy = np.trace(cm) / float(np.sum(cm))\n",
    "    misclass = 1 - accuracy\n",
    "\n",
    "    if cmap is None:\n",
    "        cmap = plt.get_cmap('Blues')\n",
    "\n",
    "    plt.figure(figsize=(8, 6))\n",
    "    plt.imshow(cm, interpolation='nearest', cmap=cmap)\n",
    "    plt.title(title)\n",
    "    plt.colorbar()\n",
    "\n",
    "    if target_names is not None:\n",
    "        tick_marks = np.arange(len(target_names))\n",
    "        plt.xticks(tick_marks, target_names, rotation=45)\n",
    "        plt.yticks(tick_marks, target_names)\n",
    "\n",
    "    if normalize:\n",
    "        cm = cm.astype('float') / cm.sum(axis=1)[:, np.newaxis]\n",
    "\n",
    "\n",
    "    thresh = cm.max() / 1.5 if normalize else cm.max() / 2\n",
    "    for i, j in itertools.product(range(cm.shape[0]), range(cm.shape[1])):\n",
    "        if normalize:\n",
    "            plt.text(j, i, \"{:0.4f}\".format(cm[i, j]),\n",
    "                     horizontalalignment=\"center\",\n",
    "                     color=\"white\" if cm[i, j] > thresh else \"black\")\n",
    "        else:\n",
    "            plt.text(j, i, \"{:,}\".format(cm[i, j]),\n",
    "                     horizontalalignment=\"center\",\n",
    "                     color=\"white\" if cm[i, j] > thresh else \"black\")\n",
    "\n",
    "\n",
    "    plt.tight_layout()\n",
    "    plt.ylabel('True label')\n",
    "    plt.xlabel('Predicted label/naccuracy={:0.4f}; misclass={:0.4f}'.format(accuracy, misclass))\n",
    "    plt.show()"
   ]
  },
  {
   "cell_type": "code",
   "execution_count": null,
   "metadata": {},
   "outputs": [],
   "source": [
    "#plot_confusion_matrix(confusion_matrix(val_set.y, [item[1] for item in classifications]), None, normalize=False)"
   ]
  },
  {
   "cell_type": "code",
   "execution_count": null,
   "metadata": {},
   "outputs": [],
   "source": [
    "## compare csvs\n",
    "\n",
    "predictions_LSTM = pd.read_csv(\"../Results/LSTMtorch/submission_lstm_pytorch_98acc.csv\", names=[\"id\", \"action\"])\n",
    "predictions_chris = pd.read_csv(\"C:/Users/Jochen/Downloads/2023-01-02_19-54-28_submission.csv\", names=[\"id\", \"action\"])\n",
    "\n",
    "percentage = len(pd.concat([predictions_chris,predictions_LSTM]).drop_duplicates(keep=False)) / len(predictions_chris) * 100\n",
    "percentage"
   ]
  },
  {
   "attachments": {},
   "cell_type": "markdown",
   "metadata": {},
   "source": [
    "## tried tensorflow...didnt work"
   ]
  },
  {
   "cell_type": "code",
   "execution_count": null,
   "metadata": {},
   "outputs": [],
   "source": [
    "import pandas as pd\n",
    "import numpy as np\n",
    "from datetime import datetime\n",
    "from matplotlib import pyplot as plt\n",
    "from sklearn.model_selection import KFold\n",
    "from sklearn.model_selection import train_test_split\n",
    "import tensorflow as tf\n",
    "from tensorflow import keras\n",
    "from tensorflow.keras.callbacks import ReduceLROnPlateau, EarlyStopping, ModelCheckpoint\n",
    "import helpers\n",
    "import utils\n",
    "from dataset import *\n",
    "#from models import *\n",
    "from resnets import resnet18, resnet34\n",
    "\n",
    "tf.random.set_seed(28)\n",
    "np.random.seed(28)"
   ]
  },
  {
   "cell_type": "code",
   "execution_count": null,
   "metadata": {},
   "outputs": [],
   "source": [
    "MAX_EPOCHS = 20\n",
    "\n",
    "def compile_and_fit(model, train, test, patience=2):\n",
    "  early_stopping = tf.keras.callbacks.EarlyStopping(monitor='val_loss',\n",
    "                                                    patience=patience,\n",
    "                                                    mode='min')\n",
    "\n",
    "  model.compile(loss=tf.keras.losses.MeanSquaredError(),\n",
    "                optimizer=tf.keras.optimizers.Adam(),\n",
    "                metrics=[tf.keras.metrics.MeanAbsoluteError()])\n",
    "\n",
    "  history = model.fit(X_train, y_train, epochs=MAX_EPOCHS,\n",
    "                      validation_data=(X_val, y_val),\n",
    "                      callbacks=[early_stopping])\n",
    "  return history"
   ]
  },
  {
   "cell_type": "code",
   "execution_count": null,
   "metadata": {},
   "outputs": [],
   "source": [
    "Pr = helpers.ProgramRuntime()\n",
    "\n",
    "try:\n",
    "\n",
    "    # df_train, df_test = read_csvs()\n",
    "    df_train_set = pd.read_csv(\"data/train_onlyAngles.csv\", )\n",
    "    df_test_set = pd.read_csv(\"data/test_onlyAngles.csv\")\n",
    "    df_train_data, labels = split_data_labels(df_train_set)\n",
    "    df_test_data, labels_test = split_data_labels(df_test_set)\n",
    "\n",
    "    train_data_scaled = StandardScaler().fit_transform(df_train_data)\n",
    "    test_data_scaled = StandardScaler().fit_transform(df_test_data)\n",
    "    \n",
    "    X_train, X_test, y_train, y_test = train_test_split(train_data_scaled, labels, test_size=0.2, random_state=42, shuffle=False)\n",
    "    \n",
    "    dataset_sw, labels_list = sliding_window(train_data_scaled, labels, 100, 50)\n",
    "\n",
    "    \n",
    "    # Hyperparameter\n",
    "    epochs = 2  # 500    # For testing 2\n",
    "    batch_size = 256\n",
    "    verbose = 1\n",
    "    lr = 0.001\n",
    "\n",
    "        # Hardware config\n",
    "    strategy = helpers.hardware_config(\"GPU\")\n",
    "    \n",
    "    wnd_train_data = tf.keras.utils.timeseries_dataset_from_array(\n",
    "        data=X_train,\n",
    "        targets=y_train,\n",
    "        sequence_length=100,\n",
    "        sequence_stride=50,\n",
    "        shuffle=False,\n",
    "        batch_size=16)\n",
    "\n",
    "    wnd_test_data = tf.keras.utils.timeseries_dataset_from_array(\n",
    "        data=X_test,\n",
    "        targets=y_test,\n",
    "        sequence_length=100,\n",
    "        sequence_stride=50,\n",
    "        shuffle=False,\n",
    "        batch_size=16)\n",
    "\n",
    "\n",
    "    # define a sequential model\n",
    "    model = tf.keras.models.Sequential([ \n",
    "        #tf.keras.layers.Lambda(lambda x: tf.expand_dims(x, axis=-1), input_shape=[12]),\n",
    "        tf.keras.layers.InputLayer(input_shape=[None, 12]),\n",
    "        tf.keras.layers.Bidirectional(tf.keras.layers.LSTM(1024, return_sequences=True)),\n",
    "        tf.keras.layers.Bidirectional(tf.keras.layers.LSTM(512, return_sequences=True)),\n",
    "        tf.keras.layers.Bidirectional(tf.keras.layers.LSTM(256, return_sequences=True)),\n",
    "        tf.keras.layers.Bidirectional(tf.keras.layers.LSTM(128, return_sequences=True)),\n",
    "        tf.keras.layers.Bidirectional(tf.keras.layers.LSTM(64)),\n",
    "        tf.keras.layers.Dense(1),\n",
    "    ]) \n",
    "\n",
    "    early_stopping = tf.keras.callbacks.EarlyStopping(monitor='val_loss', patience=2, mode='min')\n",
    "    \n",
    "    model.compile(loss=tf.keras.losses.CategoricalCrossentropy(),\n",
    "                optimizer=tf.keras.optimizers.Adam(),\n",
    "                metrics=[tf.keras.metrics.Accuracy()])\n",
    "\n",
    "    history = model.fit(wnd_train_data, epochs=2,\n",
    "                      validation_data=wnd_test_data,\n",
    "                      callbacks=[early_stopping])\n",
    "\n",
    "    plt.figure(figsize=(10, 6))\n",
    "    plt.plot(history.history['mae'], label='mae')\n",
    "    plt.plot(history.history['loss'], label='loss')\n",
    "    plt.legend()\n",
    "    plt.show()\n",
    "\n",
    "\n",
    "\n",
    "    # comment in for cnn_net\n",
    "    # dataset_sw, dataset_sw_test = reshape_cnn(dataset_sw, dataset_sw_test)\n",
    "\n",
    "    # comment in for conv_lstm_net\n",
    "    # dataset_sw, dataset_sw_test = reshape_conv_lstm(dataset_sw, dataset_sw_test)\n",
    "\n",
    "    #train(dataset_sw, np.array(labels_list), dataset_sw_test, np.array(labels_list_test))\n",
    "    # train_entire_data(dataset_sw, np.array(labels_list), dataset_sw_test, np.array(labels_list_test))\n",
    "    \n",
    "\n",
    "except Exception as e:\n",
    "    print(e)\n",
    "finally:\n",
    "    runtime = Pr.finish(print=True)"
   ]
  },
  {
   "cell_type": "code",
   "execution_count": null,
   "metadata": {},
   "outputs": [],
   "source": [
    "wnd_train_data = tf.keras.utils.timeseries_dataset_from_array(\n",
    "    data=X_train,\n",
    "    targets=y_train,\n",
    "    sequence_length=100,\n",
    "    sequence_stride=50,\n",
    "    shuffle=False,\n",
    "    batch_size=16)"
   ]
  },
  {
   "cell_type": "code",
   "execution_count": null,
   "metadata": {},
   "outputs": [],
   "source": [
    "lstm_model = tf.keras.models.Sequential([\n",
    "    # Shape [batch, time, features] => [batch, time, lstm_units]\n",
    "    tf.keras.layers.LSTM(32, return_sequences=True),\n",
    "    # Shape => [batch, time, features]\n",
    "    tf.keras.layers.Dense(units=1)\n",
    "])\n",
    "history = compile_and_fit(lstm_model, wnd_train_data, wnd_test_data)\n"
   ]
  },
  {
   "cell_type": "code",
   "execution_count": null,
   "metadata": {},
   "outputs": [],
   "source": []
  }
 ],
 "metadata": {
  "kernelspec": {
   "display_name": "Python 3",
   "language": "python",
   "name": "python3"
  },
  "language_info": {
   "codemirror_mode": {
    "name": "ipython",
    "version": 3
   },
   "file_extension": ".py",
   "mimetype": "text/x-python",
   "name": "python",
   "nbconvert_exporter": "python",
   "pygments_lexer": "ipython3",
   "version": "3.9.6"
  },
  "orig_nbformat": 4,
  "vscode": {
   "interpreter": {
    "hash": "e09c07673d3a7f5c44e4b5036d2372e0dd3f1933a01e0d465adb0862f4694c68"
   }
  }
 },
 "nbformat": 4,
 "nbformat_minor": 2
}
